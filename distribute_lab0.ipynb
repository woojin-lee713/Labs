{
 "cells": [
  {
   "cell_type": "markdown",
   "metadata": {},
   "source": [
    "# Lab 0: Basic Python, Functions, Lists, Strings, and Files"
   ]
  },
  {
   "cell_type": "markdown",
   "metadata": {
    "colab_type": "text",
    "id": "NrzmeT7EcAZB"
   },
   "source": [
    "## EXERCISE 1: A Simple Calculator\n",
    "\n",
    "Here is a fun little calculator which exercises what you have learnt so far.\n",
    "\n",
    "It has only 4 operations - Addition, Subtraction, Multiplication and Divison\n",
    "\n",
    "Notice the use of no-operation `pass`. It allows us to incrementally code by doing nothing to start, and put in functionality over time."
   ]
  },
  {
   "cell_type": "code",
   "execution_count": 10,
   "metadata": {},
   "outputs": [
    {
     "name": "stdout",
     "output_type": "stream",
     "text": [
      "Select operation\n",
      "\n",
      "1.Addition\n",
      "2.Subtraction\n",
      "3.Multiplication\n",
      "4.Division\n"
     ]
    },
    {
     "name": "stdin",
     "output_type": "stream",
     "text": [
      "\n",
      "Enter choice(1/2/3/4):  1\n",
      "\n",
      "Enter first number:  3\n",
      "\n",
      "Enter second number:  2\n"
     ]
    },
    {
     "name": "stdout",
     "output_type": "stream",
     "text": [
      "5.0\n"
     ]
    }
   ],
   "source": [
    "print(\"Select operation\\n\")\n",
    "print(\"1.Addition\")\n",
    "print(\"2.Subtraction\")\n",
    "print(\"3.Multiplication\")\n",
    "print(\"4.Division\")\n",
    "\n",
    "# Something NEW: Take input from the user \n",
    "choice = input(\"\\nEnter choice(1/2/3/4): \")\n",
    "\n",
    "# We convert the input to a floating-pount(or real) number.\n",
    "\n",
    "num1 = float(input(\"\\nEnter first number: \"))\n",
    "num2 = float(input(\"\\nEnter second number: \"))\n",
    "\n",
    "solution = 0.0 #declar a global variable \n",
    "\n",
    "if choice == '1':\n",
    "    solution = num1 + num2\n",
    "elif choice == '2':\n",
    "    solution = num1 - num2\n",
    "elif choice == '3':\n",
    "    solution = num1 * num2\n",
    "elif choice == '4':\n",
    "    solution = num1 / num2\n",
    "else:\n",
    "    raise ValueError('Invalid choice input')\n",
    "\n",
    "print(solution)\n",
    "solution = 0.0 #rest the calculations for next run"
   ]
  },
  {
   "cell_type": "markdown",
   "metadata": {},
   "source": [
    "## EXERCISE 2: List like objects and functions on them\n",
    "\n",
    "Materialize lists using \n",
    "\n",
    "1. `range(50)`\n",
    "2. The function application `enumerate(list of alphabets)`\n",
    "3. Write your own enumerate function for a list using the function `zip`."
   ]
  },
  {
   "cell_type": "code",
   "execution_count": 11,
   "metadata": {},
   "outputs": [
    {
     "name": "stdout",
     "output_type": "stream",
     "text": [
      "[0, 1, 2, 3, 4, 5, 6, 7, 8, 9, 10, 11, 12, 13, 14, 15, 16, 17, 18, 19, 20, 21, 22, 23, 24, 25, 26, 27, 28, 29, 30, 31, 32, 33, 34, 35, 36, 37, 38, 39, 40, 41, 42, 43, 44, 45, 46, 47, 48, 49]\n"
     ]
    }
   ],
   "source": [
    "# your code here\n",
    "mylist = list(range(50))\n",
    "print(mylist)"
   ]
  },
  {
   "cell_type": "code",
   "execution_count": 12,
   "metadata": {},
   "outputs": [
    {
     "name": "stdout",
     "output_type": "stream",
     "text": [
      "[(0, 'a'), (1, 'b'), (2, 'c'), (3, 'd'), (4, 'e'), (5, 'f'), (6, 'g')]\n"
     ]
    }
   ],
   "source": [
    "# your code here\n",
    "myalphabet = ['a', 'b', 'c', 'd', 'e', 'f', 'g']\n",
    "enumerate_my_alpha = list(enumerate(myalphabet))\n",
    "print(enumerate_my_alpha)"
   ]
  },
  {
   "cell_type": "code",
   "execution_count": 14,
   "metadata": {},
   "outputs": [
    {
     "name": "stdout",
     "output_type": "stream",
     "text": [
      "[(0, 'a'), (1, 'b'), (2, 'c'), (3, 'd'), (4, 'e'), (5, 'f'), (6, 'g'), (7, 'h'), (8, 'i'), (9, 'j'), (10, 'k'), (11, 'l'), (12, 'm'), (13, 'n'), (14, 'o'), (15, 'p')]\n"
     ]
    }
   ],
   "source": [
    "# your code here\n",
    "def enumerate_using_zip(user_list, start = 0):\n",
    "    return list(zip(range(start, start + len(user_list)), user_list))\n",
    "\n",
    "myalphabet_c = ['a', 'b', 'c', 'd', 'e', 'f', 'g', 'h', 'i', 'j', 'k', 'l', 'm', 'n', 'o', 'p']\n",
    "enumerate_my_alpha_c = list(enumerate_using_zip(myalphabet_c))\n",
    "print(enumerate_my_alpha_c)"
   ]
  },
  {
   "cell_type": "markdown",
   "metadata": {
    "colab_type": "text",
    "id": "rUe6oWVsvj12"
   },
   "source": [
    "## EXERCISE 3: Count the special characters\n",
    "\n",
    "Consider the string \"HelloWorld,123,ThisIsUniv.Ai\" (not including the quotes). Find the number of uppercase, lowercase, special character and numerical characters.\n"
   ]
  },
  {
   "cell_type": "code",
   "execution_count": 19,
   "metadata": {},
   "outputs": [],
   "source": [
    "my_string = \"HelloWorld,123,ThisIsUniv.Ai\"\n",
    "# your code here\n",
    "\n",
    "import string\n",
    "\n",
    "def counter(character, user_string):\n",
    "    return sum(1 for char in user_string if char in character)"
   ]
  },
  {
   "cell_type": "code",
   "execution_count": 20,
   "metadata": {},
   "outputs": [
    {
     "data": {
      "text/plain": [
       "(6, 16, 3, 3)"
      ]
     },
     "execution_count": 20,
     "metadata": {},
     "output_type": "execute_result"
    }
   ],
   "source": [
    "counter(string.ascii_uppercase, my_string),counter(string.ascii_lowercase, my_string),counter(string.digits, my_string),counter(string.punctuation, my_string)"
   ]
  },
  {
   "cell_type": "markdown",
   "metadata": {},
   "source": [
    "## EXERCISE 4: Read a file and parse words from it\n",
    "\n",
    "Read Julius Caesar. Get each line. Remove newline characters from each line. Split the line to get the words from the line. Lowercase them. Print the first 1000 words, lowercased."
   ]
  },
  {
   "cell_type": "code",
   "execution_count": 36,
   "metadata": {},
   "outputs": [],
   "source": [
    " #read the file that I got of Julius Caesar from https://github.com/cs109/2015/blob/master/Lectures/Lecture15b/sparklect/shakes/juliuscaesar.txt\n",
    "with open('julius_caesar.txt') as file:\n",
    "    lines = file.read().splitlines()\n",
    "\n",
    "words = []\n",
    "for line in lines:\n",
    "    line = line.strip()\n",
    "    words.extend([word.lower() for word in line.split() if word.isalnum()])"
   ]
  },
  {
   "cell_type": "code",
   "execution_count": 37,
   "metadata": {},
   "outputs": [
    {
     "name": "stdout",
     "output_type": "stream",
     "text": [
      "['1599', 'the', 'tragedy', 'of', 'julius', 'caesar', 'by', 'william', 'shakespeare', 'dramatis', 'personae', 'julius', 'roman', 'statesman', 'and', 'general', 'triumvir', 'after', 'later', 'augustus', 'first', 'emperor', 'of', 'rome', 'mark', 'general', 'and', 'friend', 'of', 'a', 'triumvir', 'after', 'his', 'death', 'third', 'member', 'of', 'the', 'triumvirate', 'marcus', 'leader', 'of', 'the', 'conspiracy', 'against', 'caesar', 'instigator', 'of', 'the', 'conspiracy', 'conspirator', 'against', 'caesar', 'caius', 'decius', 'metellus', 'wife', 'of', 'caesar', 'wife', 'of', 'brutus', 'senator', 'popilius', 'tribune', 'tribune', 'supportor', 'of', 'brutus', 'a', 'teacher', 'of', 'rhetoric', 'a', 'poet', 'servant', 'to', 'brutus', 'servant', 'to', 'cassius', 'the', 'ghost', 'of', 'caesar', 'a', 'soothsayer', 'a', 'poet', 'and', 'servants', 'electronic', 'version', 'of', 'the', 'complete', 'works', 'of', 'william', 'shakespeare', 'is', 'copyright', 'by', 'world', 'and', 'is', 'provided', 'by', 'project', 'gutenberg', 'etext', 'of', 'carnegie', 'mellon', 'university', 'with', 'electronic', 'and', 'machine', 'readable', 'copies', 'may', 'be', 'distributed', 'so', 'long', 'as', 'such', 'copies', 'are', 'for', 'your', 'or', 'others', 'personal', 'use', 'and', 'are', 'not', 'distributed', 'or', 'used', 'prohibited', 'commercial', 'distribution', 'includes', 'by', 'any', 'service', 'that', 'charges', 'for', 'download', 'time', 'or', 'for', 'the', 'camp', 'near', 'and', 'the', 'plains', 'of', 'act', 'scene', 'a', 'enter', 'and', 'certain', 'you', 'idle', 'get', 'you', 'is', 'this', 'a', 'know', 'you', 'being', 'you', 'ought', 'not', 'walk', 'upon', 'a', 'laboring', 'day', 'without', 'the', 'sign', 'of', 'your', 'what', 'trade', 'art', 'first', 'a', 'where', 'is', 'thy', 'leather', 'apron', 'and', 'thy', 'what', 'dost', 'thou', 'with', 'thy', 'best', 'apparel', 'what', 'trade', 'are', 'second', 'in', 'respect', 'of', 'a', 'fine', 'i', 'am', 'as', 'you', 'would', 'a', 'but', 'what', 'trade', 'art', 'answer', 'me', 'second', 'a', 'i', 'i', 'may', 'use', 'with', 'a', 'safe', 'which', 'is', 'a', 'mender', 'of', 'bad', 'what', 'thou', 'thou', 'naughty', 'what', 'second', 'i', 'beseech', 'be', 'not', 'out', 'with', 'if', 'you', 'be', 'i', 'can', 'mend', 'what', 'thou', 'by', 'mend', 'thou', 'saucy', 'second', 'cobble', 'thou', 'art', 'a', 'art', 'second', 'all', 'that', 'i', 'live', 'by', 'is', 'with', 'the', 'i', 'meddle', 'with', 'no', 'nor', 'but', 'with', 'i', 'am', 'a', 'surgeon', 'to', 'old', 'when', 'they', 'are', 'in', 'great', 'i', 'recover', 'as', 'proper', 'men', 'as', 'ever', 'trod', 'upon', 'leather', 'have', 'gone', 'upon', 'my', 'but', 'wherefore', 'art', 'not', 'in', 'thy', 'shop', 'why', 'dost', 'thou', 'lead', 'these', 'men', 'about', 'the', 'second', 'to', 'wear', 'out', 'their', 'shoes', 'to', 'get', 'myself', 'into', 'more', 'but', 'we', 'make', 'holiday', 'to', 'see', 'caesar', 'and', 'to', 'rejoice', 'in', 'his', 'wherefore', 'what', 'conquest', 'brings', 'he', 'what', 'tributaries', 'follow', 'him', 'to', 'rome', 'to', 'grace', 'in', 'captive', 'bonds', 'his', 'chariot', 'you', 'you', 'you', 'worse', 'than', 'senseless', 'o', 'you', 'hard', 'you', 'cruel', 'men', 'of', 'knew', 'you', 'not', 'many', 'a', 'time', 'and', 'oft', 'have', 'you', 'up', 'to', 'walls', 'and', 'to', 'towers', 'and', 'to', 'chimney', 'your', 'infants', 'in', 'your', 'and', 'there', 'have', 'sat', 'the', 'livelong', 'day', 'with', 'patient', 'expectation', 'to', 'see', 'great', 'pompey', 'pass', 'the', 'streets', 'of', 'and', 'when', 'you', 'saw', 'his', 'chariot', 'but', 'have', 'you', 'not', 'made', 'an', 'universal', 'shout', 'that', 'tiber', 'trembled', 'underneath', 'her', 'banks', 'to', 'hear', 'the', 'replication', 'of', 'your', 'sounds', 'made', 'in', 'her', 'concave', 'and', 'do', 'you', 'now', 'put', 'on', 'your', 'best', 'and', 'do', 'you', 'now', 'cull', 'out', 'a', 'and', 'do', 'you', 'now', 'strew', 'flowers', 'in', 'his', 'way', 'that', 'comes', 'in', 'triumph', 'over', 'be', 'run', 'to', 'your', 'fall', 'upon', 'your', 'pray', 'to', 'the', 'gods', 'to', 'intermit', 'the', 'plague', 'that', 'needs', 'must', 'light', 'on', 'this', 'good', 'for', 'this', 'assemble', 'all', 'the', 'poor', 'men', 'of', 'your', 'draw', 'them', 'to', 'tiber', 'and', 'weep', 'your', 'tears', 'into', 'the', 'till', 'the', 'lowest', 'stream', 'do', 'kiss', 'the', 'most', 'exalted', 'shores', 'of', 'exeunt', 'all', 'see', 'whether', 'their', 'basest', 'metal', 'be', 'not', 'they', 'vanish', 'in', 'their', 'go', 'you', 'down', 'that', 'way', 'towards', 'the', 'this', 'way', 'will', 'disrobe', 'the', 'images', 'if', 'you', 'do', 'find', 'them', 'with', 'may', 'we', 'do', 'you', 'know', 'it', 'is', 'the', 'feast', 'of', 'it', 'is', 'no', 'let', 'no', 'images', 'be', 'hung', 'with', 'about', 'and', 'drive', 'away', 'the', 'vulgar', 'from', 'the', 'so', 'do', 'you', 'where', 'you', 'perceive', 'them', 'these', 'growing', 'feathers', 'from', 'wing', 'will', 'make', 'him', 'fly', 'an', 'ordinary', 'who', 'else', 'would', 'soar', 'above', 'the', 'view', 'of', 'men', 'and', 'keep', 'us', 'all', 'in', 'servile', 'scene', 'a', 'public', 'enter', 'for', 'the', 'and', 'a', 'great', 'crowd', 'among', 'them', 'a', 'caesar', 'music', 'my', 'stand', 'you', 'directly', 'in', 'when', 'he', 'doth', 'run', 'his', 'my', 'forget', 'not', 'in', 'your', 'to', 'touch', 'for', 'our', 'elders', 'say', 'the', 'touched', 'in', 'this', 'holy', 'shake', 'off', 'their', 'sterile', 'i', 'shall', 'when', 'caesar', 'says', 'it', 'is', 'set', 'and', 'leave', 'no', 'ceremony', 'who', 'bid', 'every', 'noise', 'be', 'peace', 'yet', 'who', 'is', 'it', 'in', 'the', 'press', 'that', 'calls', 'on', 'i', 'hear', 'a', 'shriller', 'than', 'all', 'the', 'cry', 'caesar', 'is', 'to', 'beware', 'the', 'ides', 'of', 'what', 'man', 'is', 'a', 'soothsayer', 'you', 'beware', 'the', 'ides', 'of', 'set', 'him', 'before', 'me', 'let', 'me', 'see', 'his', 'come', 'from', 'the', 'look', 'upon', 'what', 'thou', 'to', 'me', 'speak', 'once', 'beware', 'the', 'ides', 'of', 'he', 'is', 'a', 'let', 'us', 'leave', 'exeunt', 'all', 'but', 'brutus', 'and', 'will', 'you', 'go', 'see', 'the', 'order', 'of', 'the', 'not', 'i', 'pray', 'i', 'am', 'not', 'i', 'do', 'lack', 'some', 'part', 'of', 'that', 'quick', 'spirit', 'that', 'is', 'in', 'let', 'me', 'not', 'your', 'leave', 'i', 'do', 'observe', 'you', 'now', 'of', 'i', 'have', 'not', 'from', 'your', 'eyes', 'that', 'gentleness', 'and', 'show', 'of', 'love', 'as', 'i', 'was', 'wont', 'to', 'you', 'bear', 'too', 'stubborn', 'and', 'too', 'strange', 'a', 'hand', 'over', 'your', 'friend', 'that', 'loves', 'be', 'not', 'if', 'i', 'have', 'my', 'i', 'turn', 'the', 'trouble', 'of', 'my', 'countenance', 'merely', 'upon', 'vexed', 'i', 'am', 'of', 'late', 'with', 'passions', 'of', 'some', 'conceptions', 'only', 'proper', 'to', 'which', 'give', 'some', 'soil', 'perhaps', 'to', 'my', 'but', 'let', 'not', 'therefore', 'my', 'good', 'friends', 'be', 'among', 'which', 'be', 'you', 'nor', 'construe', 'any', 'further', 'my', 'neglect', 'than', 'that', 'poor', 'brutus', 'with', 'himself', 'at', 'war', 'forgets', 'the', 'shows', 'of', 'love', 'to', 'other', 'i', 'have', 'much', 'mistook', 'your', 'by', 'means', 'whereof', 'this', 'breast', 'of', 'mine', 'hath', 'buried', 'thoughts', 'of', 'great', 'worthy', 'tell', 'good', 'can', 'you', 'see', 'your', 'for', 'the', 'eye', 'sees', 'not', 'itself', 'but', 'by', 'by', 'some', 'other', 'and', 'it', 'is', 'very', 'much', 'that', 'you', 'have', 'no', 'such', 'mirrors', 'as', 'will', 'turn', 'your', 'hidden', 'worthiness', 'into', 'your', 'eye', 'that', 'you', 'might', 'see', 'your', 'i', 'have', 'heard', 'where', 'many', 'of', 'the', 'best', 'respect', 'in', 'except', 'immortal', 'speaking', 'of', 'brutus', 'and', 'groaning', 'underneath', 'this', 'have', 'that', 'noble', 'brutus', 'had', 'his', 'into', 'what', 'dangers', 'would', 'you', 'lead', 'that', 'you', 'would', 'have', 'me', 'seek', 'into', 'myself', 'for']\n"
     ]
    }
   ],
   "source": [
    "print(words[:1000])"
   ]
  }
 ],
 "metadata": {
  "kernelspec": {
   "display_name": "Python 3 (ipykernel)",
   "language": "python",
   "name": "python3"
  },
  "language_info": {
   "codemirror_mode": {
    "name": "ipython",
    "version": 3
   },
   "file_extension": ".py",
   "mimetype": "text/x-python",
   "name": "python",
   "nbconvert_exporter": "python",
   "pygments_lexer": "ipython3",
   "version": "3.12.2"
  }
 },
 "nbformat": 4,
 "nbformat_minor": 4
}
