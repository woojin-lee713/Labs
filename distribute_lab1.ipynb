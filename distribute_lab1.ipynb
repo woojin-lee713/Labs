{
 "cells": [
  {
   "cell_type": "markdown",
   "metadata": {},
   "source": [
    "# Lab 1: Dictionaries and Classes"
   ]
  },
  {
   "cell_type": "markdown",
   "metadata": {},
   "source": [
    "## EXERCISE 1: Count words in Julius Caesar and make a text based histogram\n",
    "\n",
    "Building on the first lab, using lowercase words, lets make a histogram. Create a dictionary `worddict`, that has the counts of all the words in Caesar."
   ]
  },
  {
   "cell_type": "code",
   "execution_count": 13,
   "metadata": {},
   "outputs": [
    {
     "name": "stdout",
     "output_type": "stream",
     "text": [
      "{'1599': 1, 'the': 612, 'tragedy': 1, 'of': 385, 'julius': 4, 'caesar': 96, 'by': 114, 'william': 6, 'shakespeare': 6, 'dramatis': 1, 'personae': 1, 'roman': 11, 'statesman': 1, 'and': 632, 'general': 8, 'triumvir': 2, 'after': 11, 'later': 1, 'augustus': 1, 'first': 30, 'emperor': 1, 'rome': 17, 'mark': 33, 'friend': 11, 'a': 267, 'his': 160, 'death': 14, 'third': 20, 'member': 1, 'triumvirate': 1, 'marcus': 7, 'leader': 1, 'conspiracy': 2, 'against': 10, 'instigator': 1, 'conspirator': 1, 'caius': 11, 'decius': 6, 'metellus': 9, 'wife': 3, 'brutus': 75, 'senator': 1, 'popilius': 3, 'tribune': 2, 'supportor': 1, 'teacher': 1, 'rhetoric': 1, 'poet': 2, 'servant': 2, 'to': 416, 'cassius': 24, 'ghost': 3, 'soothsayer': 2, 'servants': 2, 'electronic': 10, 'version': 5, 'complete': 5, 'works': 5, 'is': 248, 'copyright': 5, 'world': 13, 'provided': 5, 'project': 5, 'gutenberg': 5, 'etext': 5, 'carnegie': 5, 'mellon': 5, 'university': 5, 'with': 162, 'machine': 5, 'readable': 5, 'copies': 10, 'may': 38, 'be': 152, 'distributed': 10, 'so': 102, 'long': 6, 'as': 139, 'such': 42, 'are': 114, 'for': 177, 'your': 136, 'or': 57, 'others': 5, 'personal': 7, 'use': 12, 'not': 213, 'used': 6, 'prohibited': 5, 'commercial': 5, 'distribution': 5, 'includes': 5, 'any': 19, 'service': 6, 'that': 273, 'charges': 6, 'download': 5, 'time': 24, 'camp': 2, 'near': 8, 'plains': 2, 'act': 7, 'scene': 19, 'enter': 40, 'certain': 5, 'you': 313, 'idle': 3, 'get': 11, 'this': 141, 'know': 60, 'being': 10, 'ought': 2, 'walk': 8, 'upon': 45, 'laboring': 1, 'day': 16, 'without': 5, 'sign': 4, 'what': 106, 'trade': 3, 'art': 22, 'where': 27, 'thy': 54, 'leather': 2, 'apron': 1, 'dost': 9, 'thou': 107, 'best': 12, 'apparel': 1, 'second': 29, 'in': 223, 'respect': 6, 'fine': 1, 'i': 497, 'am': 55, 'would': 46, 'but': 130, 'answer': 9, 'me': 126, 'safe': 2, 'which': 43, 'mender': 1, 'bad': 8, 'naughty': 1, 'beseech': 3, 'out': 16, 'if': 84, 'can': 19, 'mend': 2, 'saucy': 3, 'cobble': 1, 'all': 91, 'live': 7, 'meddle': 1, 'no': 71, 'nor': 24, 'surgeon': 1, 'old': 6, 'when': 65, 'they': 64, 'great': 26, 'recover': 1, 'proper': 3, 'men': 41, 'ever': 11, 'trod': 1, 'have': 144, 'gone': 3, 'my': 189, 'wherefore': 6, 'shop': 1, 'why': 23, 'lead': 6, 'these': 36, 'about': 17, 'wear': 4, 'their': 62, 'shoes': 1, 'myself': 12, 'into': 15, 'more': 26, 'we': 94, 'make': 25, 'holiday': 1, 'see': 31, 'rejoice': 2, 'conquest': 3, 'brings': 3, 'he': 184, 'tributaries': 1, 'follow': 10, 'him': 97, 'grace': 4, 'captive': 1, 'bonds': 1, 'chariot': 2, 'worse': 3, 'than': 42, 'senseless': 1, 'o': 48, 'hard': 5, 'cruel': 2, 'knew': 3, 'many': 15, 'oft': 3, 'up': 28, 'walls': 3, 'towers': 1, 'chimney': 1, 'infants': 2, 'there': 41, 'sat': 1, 'livelong': 1, 'patient': 3, 'expectation': 1, 'pompey': 2, 'pass': 5, 'streets': 3, 'saw': 8, 'made': 11, 'an': 33, 'universal': 1, 'shout': 2, 'tiber': 4, 'trembled': 1, 'underneath': 2, 'her': 8, 'banks': 1, 'hear': 33, 'replication': 1, 'sounds': 1, 'concave': 1, 'do': 118, 'now': 36, 'put': 16, 'on': 67, 'cull': 1, 'strew': 1, 'flowers': 1, 'way': 8, 'comes': 16, 'triumph': 3, 'over': 6, 'run': 13, 'fall': 7, 'pray': 7, 'gods': 10, 'intermit': 1, 'plague': 1, 'needs': 1, 'must': 36, 'light': 3, 'good': 66, 'assemble': 1, 'poor': 9, 'draw': 2, 'them': 38, 'weep': 4, 'tears': 3, 'till': 22, 'lowest': 1, 'stream': 2, 'kiss': 3, 'most': 28, 'exalted': 2, 'shores': 1, 'exeunt': 13, 'whether': 4, 'basest': 1, 'metal': 1, 'vanish': 1, 'go': 37, 'down': 12, 'towards': 2, 'will': 130, 'disrobe': 1, 'images': 2, 'find': 17, 'it': 154, 'feast': 2, 'let': 64, 'hung': 2, 'drive': 1, 'away': 4, 'vulgar': 1, 'from': 50, 'perceive': 5, 'growing': 2, 'feathers': 1, 'wing': 1, 'fly': 6, 'ordinary': 3, 'who': 24, 'else': 10, 'soar': 1, 'above': 2, 'view': 1, 'keep': 10, 'us': 44, 'servile': 1, 'public': 4, 'crowd': 3, 'among': 4, 'music': 1, 'stand': 25, 'directly': 4, 'doth': 27, 'forget': 3, 'touch': 2, 'our': 87, 'elders': 1, 'say': 28, 'touched': 1, 'holy': 2, 'shake': 5, 'off': 11, 'sterile': 1, 'shall': 123, 'says': 8, 'set': 12, 'leave': 16, 'ceremony': 1, 'bid': 17, 'every': 25, 'noise': 4, 'peace': 4, 'yet': 33, 'press': 5, 'calls': 2, 'shriller': 1, 'cry': 8, 'beware': 4, 'ides': 7, 'man': 36, 'before': 13, 'come': 52, 'look': 19, 'speak': 26, 'once': 6, 'order': 3, 'lack': 1, 'some': 41, 'part': 9, 'quick': 2, 'spirit': 10, 'observe': 2, 'eyes': 8, 'gentleness': 1, 'show': 12, 'love': 28, 'was': 61, 'wont': 1, 'bear': 22, 'too': 15, 'stubborn': 1, 'strange': 6, 'hand': 12, 'loves': 6, 'turn': 8, 'trouble': 3, 'countenance': 1, 'merely': 1, 'vexed': 1, 'late': 1, 'passions': 1, 'conceptions': 1, 'only': 8, 'give': 34, 'soil': 1, 'perhaps': 2, 'therefore': 10, 'friends': 7, 'construe': 3, 'further': 4, 'neglect': 1, 'himself': 6, 'at': 58, 'war': 1, 'forgets': 1, 'shows': 2, 'other': 13, 'much': 24, 'mistook': 1, 'means': 6, 'whereof': 1, 'breast': 2, 'mine': 20, 'hath': 35, 'buried': 3, 'thoughts': 3, 'worthy': 8, 'tell': 36, 'eye': 6, 'sees': 3, 'itself': 2, 'very': 12, 'mirrors': 1, 'hidden': 1, 'worthiness': 1, 'might': 11, 'heard': 7, 'except': 1, 'immortal': 2, 'speaking': 2, 'groaning': 2, 'noble': 35, 'had': 27, 'dangers': 3, 'seek': 7, 'prepared': 1, 'since': 6, 'cannot': 5, 'yourself': 10, 'well': 29, 'glass': 1, 'modestly': 1, 'discover': 2, 'jealous': 1, 'gentle': 9, 'were': 35, 'common': 9, 'did': 71, 'stale': 1, 'oaths': 1, 'new': 3, 'fawn': 2, 'hug': 1, 'scandal': 1, 'profess': 1, 'banqueting': 1, 'then': 44, 'hold': 11, 'flourish': 1, 'fear': 22, 'people': 9, 'choose': 2, 'think': 22, 'here': 40, 'impart': 1, 'aught': 2, 'toward': 3, 'honor': 8, 'one': 26, 'both': 7, 'speed': 3, 'name': 10, 'virtue': 6, 'outward': 1, 'subject': 1, 'single': 1, 'lief': 1, 'awe': 2, 'thing': 6, 'born': 2, 'free': 3, 'fed': 1, 'endure': 5, 'cold': 6, 'raw': 2, 'gusty': 1, 'troubled': 1, 'chafing': 1, 'said': 8, 'leap': 2, 'angry': 4, 'flood': 4, 'swim': 2, 'yonder': 2, 'accoutred': 1, 'plunged': 1, 'bade': 4, 'indeed': 4, 'torrent': 1, 'buffet': 1, 'lusty': 2, 'throwing': 1, 'aside': 1, 'stemming': 1, 'hearts': 5, 'ere': 6, 'could': 17, 'arrive': 1, 'point': 5, 'aeneas': 1, 'ancestor': 1, 'flames': 1, 'troy': 1, 'shoulder': 1, 'anchises': 1, 'waves': 1, 'tired': 1, 'become': 3, 'wretched': 1, 'creature': 2, 'bend': 3, 'body': 5, 'carelessly': 1, 'nod': 1, 'fever': 1, 'fit': 4, 'how': 32, 'god': 1, 'coward': 3, 'lips': 3, 'color': 2, 'same': 6, 'whose': 5, 'lose': 4, 'tongue': 4, 'romans': 10, 'write': 4, 'speeches': 1, 'sick': 5, 'ye': 7, 'amaze': 1, 'feeble': 4, 'temper': 1, 'should': 39, 'start': 2, 'majestic': 1, 'palm': 1, 'another': 9, 'believe': 5, 'applauses': 1, 'honors': 5, 'bestride': 1, 'narrow': 1, 'like': 38, 'petty': 1, 'under': 9, 'huge': 3, 'legs': 1, 'peep': 1, 'ourselves': 5, 'dishonorable': 1, 'masters': 2, 'dear': 8, 'sounded': 1, 'yours': 3, 'fair': 2, 'sound': 3, 'mouth': 2, 'weigh': 1, 'conjure': 1, 'soon': 3, 'names': 2, 'meat': 1, 'feed': 1, 'grown': 4, 'hast': 13, 'lost': 2, 'breed': 2, 'went': 6, 'age': 2, 'famed': 1, 'wide': 1, 'room': 3, 'fathers': 1, 'eternal': 1, 'devil': 2, 'state': 4, 'easily': 1, 'nothing': 6, 'work': 6, 'thought': 6, 'recount': 1, 'entreat': 3, 'patience': 4, 'meet': 17, 'high': 5, 'chew': 1, 'rather': 8, 'villager': 1, 'repute': 1, 'son': 4, 'conditions': 1, 'lay': 4, 'glad': 4, 'weak': 5, 'words': 5, 'struck': 3, 'thus': 12, 'fire': 11, 'games': 1, 'pluck': 4, 'casca': 5, 'sour': 1, 'proceeded': 1, 'note': 4, 'spot': 2, 'glow': 1, 'rest': 6, 'chidden': 1, 'cheek': 1, 'cicero': 5, 'looks': 5, 'ferret': 1, 'fiery': 2, 'seen': 7, 'conference': 1, 'matter': 4, 'sleep': 6, 'yond': 2, 'has': 3, 'lean': 1, 'hungry': 1, 'thinks': 2, 'liable': 1, 'avoid': 1, 'spare': 1, 'reads': 1, 'quite': 4, 'through': 5, 'deeds': 2, 'hears': 1, 'seldom': 1, 'smiles': 2, 'sort': 2, 'moved': 5, 'smile': 4, 'never': 13, 'ease': 2, 'whiles': 1, 'behold': 4, 'greater': 3, 'thee': 32, 'always': 1, 'right': 6, 'ear': 4, 'truly': 1, 'train': 1, 'chanced': 1, 'today': 6, 'ask': 2, 'crown': 8, 'offered': 7, 'back': 4, 'fell': 9, 'shouted': 1, 'last': 5, 'gentler': 1, 'putting': 1, 'honest': 4, 'neighbors': 1, 'manner': 2, 'mere': 1, 'antony': 22, 'offer': 1, 'told': 3, 'fain': 1, 'loath': 1, 'fingers': 3, 'still': 5, 'refused': 3, 'rabblement': 1, 'hooted': 1, 'clapped': 1, 'chopped': 1, 'hands': 9, 'threw': 1, 'sweaty': 1, 'nightcaps': 1, 'uttered': 1, 'deal': 1, 'stinking': 1, 'breath': 1, 'because': 3, 'almost': 4, 'choked': 2, 'swounded': 1, 'own': 9, 'durst': 7, 'laugh': 2, 'opening': 1, 'receiving': 1, 'caesars': 1, 'marketplace': 1, 'foamed': 1, 'falling': 2, 'mean': 8, 'sure': 7, 'tagrag': 1, 'clap': 1, 'hiss': 1, 'according': 3, 'pleased': 1, 'displeased': 1, 'players': 1, 'true': 10, 'came': 5, 'unto': 13, 'perceived': 1, 'herd': 1, 'plucked': 1, 'ope': 2, 'doublet': 1, 'throat': 1, 'been': 8, 'taken': 4, 'hell': 1, 'done': 14, 'anything': 3, 'desired': 1, 'worships': 1, 'three': 6, 'four': 1, 'wenches': 1, 'stood': 3, 'forgave': 1, 'heed': 2, 'stabbed': 1, 'spoke': 3, 'face': 7, 'those': 9, 'understood': 1, 'smiled': 1, 'shook': 1, 'greek': 1, 'news': 1, 'marullus': 1, 'pulling': 1, 'scarfs': 1, 'fare': 6, 'foolery': 1, 'remember': 6, 'sup': 1, 'promised': 1, 'dine': 1, 'mind': 4, 'dinner': 1, 'worth': 3, 'expect': 1, 'blunt': 2, 'fellow': 5, 'mettle': 3, 'execution': 1, 'bold': 2, 'however': 1, 'puts': 1, 'tardy': 1, 'rudeness': 1, 'sauce': 1, 'gives': 4, 'stomach': 1, 'digest': 2, 'better': 10, 'please': 8, 'home': 6, 'wait': 1, 'exit': 13, 'honorable': 12, 'wrought': 1, 'minds': 4, 'firm': 1, 'humor': 4, 'several': 5, 'windows': 1, 'tending': 2, 'opinion': 3, 'holds': 2, 'wherein': 5, 'obscurely': 1, 'ambition': 2, 'glanced': 1, 'seat': 2, 'days': 4, 'thunder': 3, 'opposite': 1, 'sword': 5, 'brought': 5, 'stare': 1, 'sway': 1, 'earth': 4, 'shakes': 1, 'tempests': 1, 'scolding': 1, 'winds': 1, 'rived': 2, 'knotty': 1, 'ambitious': 1, 'ocean': 1, 'swell': 2, 'rage': 2, 'foam': 1, 'threatening': 1, 'tempest': 1, 'dropping': 1, 'either': 3, 'civil': 2, 'strife': 2, 'incenses': 1, 'send': 11, 'held': 4, 'left': 5, 'flame': 1, 'burn': 4, 'twenty': 2, 'torches': 1, 'sensible': 1, 'capitol': 3, 'met': 1, 'surly': 1, 'annoying': 1, 'drawn': 1, 'heap': 1, 'hundred': 3, 'ghastly': 1, 'women': 2, 'transformed': 1, 'swore': 2, 'yesterday': 2, 'bird': 1, 'night': 11, 'sit': 4, 'even': 16, 'noonday': 1, 'howling': 1, 'prodigies': 1, 'conjointly': 1, 'portentous': 1, 'things': 12, 'climate': 1, 'clean': 1, 'purpose': 3, 'antonio': 1, 'word': 11, 'disturbed': 1, 'sky': 1, 'pleasing': 1, 'heavens': 3, 'menace': 1, 'known': 2, 'full': 9, 'submitting': 1, 'perilous': 1, 'bared': 1, 'bosom': 2, 'cross': 3, 'blue': 1, 'lightning': 1, 'open': 2, 'present': 3, 'aim': 1, 'flash': 1, 'tempt': 4, 'tremble': 1, 'mighty': 12, 'tokens': 1, 'dreadful': 4, 'heralds': 1, 'astonish': 1, 'sparks': 1, 'life': 8, 'pale': 1, 'gaze': 1, 'cast': 2, 'wonder': 2, 'impatience': 2, 'consider': 2, 'cause': 11, 'gliding': 1, 'birds': 1, 'beasts': 1, 'quality': 3, 'children': 2, 'change': 4, 'preformed': 1, 'faculties': 1, 'monstrous': 4, 'heaven': 2, 'infused': 1, 'spirits': 5, 'instruments': 2, 'warning': 1, 'opens': 2, 'roars': 1, 'lion': 1, 'mightier': 1, 'thyself': 1, 'prodigious': 1, 'eruptions': 1, 'thews': 1, 'limbs': 3, 'woe': 2, 'yoke': 1, 'sufferance': 2, 'senators': 3, 'tomorrow': 2, 'establish': 1, 'sea': 2, 'land': 1, 'place': 9, 'save': 3, 'dagger': 3, 'bondage': 2, 'deliver': 2, 'tyrants': 1, 'stony': 1, 'beaten': 1, 'airless': 1, 'strong': 7, 'links': 1, 'iron': 1, 'retentive': 1, 'strength': 2, 'weary': 2, 'worldly': 1, 'lacks': 1, 'power': 3, 'dismiss': 1, 'tyranny': 3, 'bondman': 1, 'bears': 9, 'cancel': 1, 'tyrant': 1, 'wolf': 1, 'haste': 2, 'begin': 2, 'trash': 3, 'serves': 1, 'base': 6, 'illuminate': 1, 'vile': 7, 'led': 3, 'willing': 1, 'fleering': 1, 'factious': 1, 'redress': 2, 'foot': 2, 'far': 7, 'goes': 5, 'bargain': 1, 'already': 2, 'undergo': 1, 'enterprise': 3, 'stay': 13, 'fearful': 3, 'stir': 8, 'walking': 1, 'complexion': 1, 'element': 1, 'close': 3, 'incorporate': 2, 'two': 9, 'win': 1, 'take': 22, 'throw': 1, 'wax': 1, 'repair': 2, 'trebonius': 3, 'hie': 3, 'bestow': 2, 'papers': 1, 'parts': 3, 'ours': 1, 'entire': 1, 'next': 1, 'encounter': 1, 'yields': 1, 'sits': 2, 'appear': 6, 'offense': 3, 'richest': 1, 'need': 4, 'awake': 4, 'progress': 1, 'guess': 1, 'fault': 1, 'taper': 4, 'call': 6, 'spurn': 2, 'bright': 1, 'forth': 7, 'adder': 1, 'craves': 1, 'wary': 1, 'sting': 1, 'danger': 2, 'abuse': 1, 'greatness': 1, 'disjoins': 1, 'remorse': 1, 'truth': 2, 'affections': 1, 'proof': 3, 'lowliness': 1, 'young': 11, 'whereto': 2, 'turns': 3, 'attains': 1, 'upmost': 1, 'ladder': 1, 'scorning': 1, 'degrees': 1, 'lest': 5, 'quarrel': 1, 'fashion': 2, 'egg': 1, 'kind': 3, 'grow': 2, 'kill': 6, 'burneth': 1, 'searching': 1, 'window': 1, 'flint': 2, 'found': 5, 'paper': 1, 'lie': 6, 'bed': 2, 'calendar': 1, 'bring': 10, 'exhalations': 1, 'whizzing': 1, 'air': 2, 'read': 12, 'letter': 1, 'instigations': 1, 'often': 2, 'took': 5, 'piece': 3, 'ancestors': 1, 'tarquin': 1, 'entreated': 1, 'receivest': 1, 'petition': 1, 'march': 6, 'wasted': 1, 'fifteen': 1, 'knocking': 2, 'somebody': 1, 'whet': 1, 'between': 2, 'acting': 1, 'interim': 1, 'phantasma': 1, 'hideous': 1, 'genius': 1, 'mortal': 1, 'little': 5, 'suffers': 1, 'nature': 4, 'brother': 5, 'desire': 3, 'hats': 1, 'half': 3, 'faces': 2, 'shamest': 1, 'dangerous': 3, 'brow': 1, 'evils': 2, 'wilt': 5, 'cavern': 1, 'dark': 1, 'enough': 5, 'mask': 1, 'hide': 6, 'native': 1, 'semblance': 1, 'erebus': 1, 'dim': 1, 'along': 5, 'wish': 5, 'welcome': 4, 'watchful': 1, 'cares': 1, 'interpose': 1, 'themselves': 4, 'betwixt': 1, 'lies': 6, 'break': 4, 'yongrey': 1, 'lines': 1, 'fret': 2, 'clouds': 1, 'messengers': 1, 'confess': 2, 'sun': 2, 'weighing': 1, 'youthful': 1, 'season': 1, 'months': 1, 'hence': 3, 'higher': 2, 'north': 1, 'presents': 1, 'east': 1, 'stands': 2, 'swear': 3, 'motives': 1, 'range': 1, 'each': 2, 'drop': 3, 'kindle': 1, 'cowards': 3, 'steel': 3, 'valor': 1, 'melting': 1, 'spur': 1, 'prick': 2, 'bond': 2, 'secret': 1, 'oath': 1, 'honesty': 2, 'engaged': 1, 'priests': 2, 'carrions': 1, 'suffering': 1, 'souls': 1, 'causes': 1, 'creatures': 1, 'stain': 1, 'insuppressive': 1, 'performance': 1, 'blood': 13, 'nobly': 1, 'guilty': 1, 'bastardy': 1, 'smallest': 1, 'particle': 1, 'promise': 2, 'silver': 1, 'hairs': 1, 'purchase': 1, 'buy': 1, 'voices': 1, 'commend': 3, 'judgement': 1, 'ruled': 1, 'youths': 1, 'wildness': 1, 'whit': 1, 'beloved': 1, 'outlive': 1, 'shrewd': 1, 'improve': 1, 'stretch': 1, 'annoy': 1, 'course': 2, 'seem': 5, 'cut': 5, 'head': 2, 'hack': 1, 'wrath': 1, 'envy': 2, 'limb': 1, 'dismember': 1, 'bleed': 3, 'carve': 1, 'dish': 1, 'hew': 1, 'carcass': 1, 'subtle': 1, 'chide': 1, 'necessary': 2, 'appearing': 1, 'arm': 2, 'ingrated': 1, 'die': 9, 'given': 3, 'clock': 2, 'count': 1, 'stricken': 1, 'doubtful': 1, 'superstitious': 1, 'main': 1, 'apparent': 1, 'terror': 1, 'persuasion': 1, 'augurers': 1, 'unicorns': 1, 'elephants': 1, 'lions': 2, 'hates': 1, 'fetch': 6, 'eighth': 1, 'utter': 1, 'fail': 1, 'ligarius': 1, 'rated': 1, 'none': 4, 'morning': 2, 'disperse': 1, 'yourselves': 4, 'fresh': 2, 'actors': 1, 'untired': 1, 'formal': 1, 'morrow': 3, 'fast': 3, 'enjoy': 1, 'dew': 1, 'figures': 1, 'busy': 1, 'care': 2, 'draws': 2, 'brains': 1, 'rise': 3, 'health': 1, 'commit': 1, 'condition': 2, 'stole': 1, 'yesternight': 1, 'supper': 1, 'suddenly': 1, 'arose': 1, 'musing': 1, 'arms': 2, 'stared': 1, 'ungentle': 1, 'urged': 1, 'impatiently': 1, 'waiter': 1, 'gave': 5, 'fearing': 3, 'strengthen': 1, 'withal': 3, 'hoping': 1, 'effect': 1, 'sometime': 1, 'hour': 3, 'shape': 1, 'acquainted': 1, 'embrace': 1, 'physical': 1, 'unbraced': 1, 'suck': 2, 'humors': 1, 'dank': 1, 'steal': 2, 'wholesome': 1, 'dare': 4, 'contagion': 1, 'rheumy': 1, 'unpurged': 1, 'add': 1, 'within': 6, 'charm': 1, 'commended': 1, 'vows': 1, 'vow': 1, 'unfold': 2, 'heavy': 2, 'tonight': 5, 'resort': 1, 'six': 1, 'kneel': 1, 'excepted': 1, 'secrets': 2, 'appertain': 1, 'comfort': 2, 'talk': 5, 'dwell': 2, 'suburbs': 1, 'portia': 3, 'ruddy': 1, 'drops': 1, 'visit': 3, 'sad': 2, 'grant': 3, 'woman': 3, 'lord': 3, 'stronger': 1, 'disclose': 1, 'giving': 1, 'voluntary': 1, 'wound': 2, 'render': 2, 'partake': 1, 'engagements': 1, 'charactery': 1, 'lucius': 3, 'spake': 1, 'vouchsafe': 2, 'chose': 1, 'brave': 5, 'exploit': 2, 'healthful': 1, 'bow': 1, 'discard': 1, 'soul': 1, 'derived': 1, 'conjured': 1, 'mortified': 1, 'strive': 1, 'whole': 1, 'going': 2, 'whom': 1, 'heart': 17, 'sufficeth': 2, 'leads': 3, 'thrice': 3, 'calpurnia': 2, 'cried': 1, 'murther': 1, 'opinions': 1, 'house': 7, 'fright': 1, 'besides': 1, 'recounts': 1, 'horrid': 1, 'sights': 1, 'lioness': 1, 'whelped': 1, 'graves': 1, 'yielded': 1, 'fierce': 2, 'warriors': 1, 'fight': 2, 'ranks': 1, 'squadrons': 1, 'form': 2, 'drizzled': 1, 'battle': 4, 'hurtled': 1, 'horses': 2, 'neigh': 1, 'dying': 1, 'ghosts': 1, 'shriek': 1, 'squeal': 1, 'beyond': 1, 'avoided': 1, 'end': 5, 'purposed': 1, 'predictions': 1, 'beggars': 1, 'comets': 1, 'blaze': 1, 'times': 3, 'valiant': 4, 'taste': 2, 'wonders': 1, 'seems': 1, 'seeing': 2, 'plucking': 1, 'entrails': 1, 'offering': 1, 'shame': 1, 'beast': 1, 'knows': 3, 'elder': 2, 'wisdom': 1, 'consumed': 1, 'keeps': 1, 'senate': 8, 'prevail': 1, 'happy': 3, 'greeting': 1, 'afeard': 1, 'greybeards': 1, 'satisfy': 1, 'private': 3, 'stays': 1, 'she': 7, 'dreamt': 2, 'fountain': 1, 'pure': 1, 'smiling': 2, 'bathe': 2, 'does': 2, 'apply': 1, 'warnings': 1, 'portents': 1, 'knee': 1, 'dream': 2, 'amiss': 2, 'vision': 1, 'statue': 2, 'spouting': 1, 'signifies': 1, 'reviving': 1, 'expounded': 1, 'concluded': 1, 'mock': 1, 'apt': 3, 'someone': 1, 'whisper': 1, 'pardon': 5, 'proceeding': 1, 'bids': 1, 'reason': 4, 'foolish': 1, 'fears': 2, 'ashamed': 1, 'yield': 2, 'publius': 4, 'early': 2, 'enemy': 6, 'ague': 1, 'strucken': 2, 'thank': 3, 'pains': 1, 'revels': 1, 'notwithstanding': 1, 'prepare': 5, 'blame': 5, 'waited': 1, 'store': 2, 'wine': 3, 'straightway': 1, 'yearns': 1, 'street': 3, 'reading': 1, 'trust': 1, 'wronged': 1, 'bent': 1, 'beest': 1, 'security': 1, 'defend': 2, 'suitor': 2, 'laments': 1, 'teeth': 2, 'mayest': 1, 'fates': 1, 'traitors': 2, 'shouldst': 2, 'mountain': 1, 'return': 1, 'sickly': 2, 'suitors': 1, 'listen': 2, 'bustling': 1, 'rumor': 1, 'wind': 2, 'ninth': 1, 'suit': 4, 'befriend': 1, 'intended': 2, 'throng': 2, 'follows': 1, 'void': 1, 'ay': 1, 'thine': 3, 'boy': 2, 'sitting': 1, 'artemidorus': 1, 'humble': 2, 'touches': 2, 'ourself': 1, 'delay': 1, 'urge': 3, 'petitions': 1, 'advances': 1, 'makes': 3, 'slay': 1, 'lena': 1, 'speaks': 3, 'presently': 2, 'prefer': 2, 'rears': 1, 'puissant': 1, 'cimber': 3, 'throws': 1, 'prevent': 2, 'couchings': 1, 'lowly': 1, 'courtesies': 1, 'preordinance': 1, 'decree': 2, 'law': 1, 'fond': 1, 'rebel': 1, 'melteth': 1, 'sweet': 3, 'cur': 1, 'voice': 5, 'sweetly': 1, 'repealing': 1, 'desiring': 1, 'immediate': 1, 'freedom': 1, 'low': 4, 'beg': 4, 'enfranchisement': 1, 'prayers': 1, 'move': 3, 'constant': 3, 'northern': 1, 'resting': 1, 'skies': 1, 'painted': 1, 'flesh': 1, 'number': 3, 'unassailable': 1, 'unshaked': 1, 'remain': 1, 'lift': 1, 'bootless': 1, 'conspirators': 1, 'stab': 1, 'et': 1, 'pulpits': 1, 'debt': 1, 'confounded': 1, 'harm': 2, 'rushing': 2, 'abide': 2, 'deed': 5, 'fled': 3, 'drawing': 1, 'cuts': 2, 'years': 2, 'abridged': 1, 'besmear': 1, 'waving': 1, 'red': 4, 'weapons': 1, 'stoop': 1, 'ages': 1, 'lofty': 1, 'acted': 1, 'states': 1, 'unborn': 1, 'accents': 1, 'basis': 1, 'worthier': 1, 'knot': 1, 'country': 3, 'heels': 1, 'boldest': 1, 'master': 6, 'loved': 6, 'safely': 1, 'resolved': 3, 'deserved': 2, 'dead': 5, 'fortunes': 1, 'affairs': 3, 'thorough': 2, 'hazards': 1, 'untrod': 1, 'wise': 2, 'satisfied': 1, 'depart': 2, 'misgiving': 1, 'falls': 1, 'shrewdly': 1, 'shrunk': 1, 'instrument': 2, 'rich': 2, 'whilst': 7, 'purpled': 1, 'reek': 1, 'fulfill': 1, 'thousand': 1, 'choice': 1, 'though': 6, 'bloody': 8, 'bleeding': 2, 'business': 3, 'pity': 3, 'wrong': 11, 'drives': 1, 'swords': 2, 'leaden': 2, 'receive': 3, 'disposing': 1, 'appeased': 1, 'beside': 2, 'doubt': 2, 'least': 1, 'gentlemen': 1, 'credit': 2, 'slippery': 1, 'ways': 1, 'conceit': 1, 'grieve': 1, 'dearer': 2, 'making': 1, 'shaking': 1, 'presence': 1, 'weeping': 1, 'terms': 1, 'friendship': 1, 'wast': 2, 'didst': 7, 'hunters': 1, 'forest': 1, 'deer': 1, 'princes': 1, 'enemies': 2, 'praising': 1, 'compact': 1, 'depend': 1, 'looking': 1, 'hope': 1, 'reasons': 5, 'savage': 1, 'regard': 3, 'moreover': 1, 'produce': 1, 'becomes': 1, 'consent': 2, 'pulpit': 2, 'protest': 1, 'contented': 2, 'rites': 2, 'lawful': 1, 'advantage': 3, 'funeral': 1, 'speech': 4, 'devise': 1, 'meek': 1, 'ruins': 1, 'noblest': 3, 'lived': 2, 'tide': 2, 'shed': 2, 'costly': 1, 'wounds': 3, 'prophesy': 1, 'dumb': 2, 'mouths': 1, 'ruby': 1, 'utterance': 1, 'curse': 1, 'domestic': 1, 'fury': 1, 'cumber': 1, 'destruction': 1, 'objects': 1, 'mothers': 1, 'custom': 1, 'ranging': 1, 'ate': 1, 'side': 2, 'hot': 3, 'confines': 1, 'slip': 1, 'dogs': 1, 'foul': 1, 'smell': 1, 'carrion': 1, 'serve': 1, 'octavius': 8, 'apart': 1, 'beads': 1, 'sorrow': 2, 'began': 1, 'seven': 1, 'leagues': 1, 'post': 1, 'mourning': 2, 'safety': 1, 'shalt': 4, 'borne': 1, 'corse': 2, 'issue': 1, 'discourse': 1, 'lend': 2, 'rendered': 1, 'compare': 1, 'severally': 1, 'censure': 1, 'less': 2, 'demand': 2, 'rose': 1, 'living': 2, 'slew': 3, 'joy': 2, 'rude': 1, 'pause': 2, 'question': 2, 'enrolled': 1, 'glory': 2, 'offenses': 1, 'suffered': 1, 'mourned': 1, 'benefit': 1, 'lover': 1, 'fourth': 16, 'shouts': 1, 'beholding': 2, 'finds': 1, 'blest': 1, 'rid': 2, 'bury': 2, 'praise': 1, 'evil': 2, 'lives': 1, 'interred': 1, 'grievous': 1, 'grievously': 1, 'faithful': 1, 'just': 1, 'captives': 1, 'ransoms': 1, 'coffers': 1, 'sterner': 1, 'lupercal': 1, 'presented': 1, 'kingly': 1, 'disprove': 1, 'withholds': 1, 'mourn': 1, 'brutish': 1, 'coffin': 1, 'methinks': 1, 'rightly': 1, 'nobler': 1, 'begins': 2, 'again': 2, 'disposed': 1, 'mutiny': 1, 'parchment': 1, 'seal': 1, 'commons': 1, 'dip': 1, 'napkins': 1, 'sacred': 1, 'hair': 2, 'mention': 1, 'bequeathing': 1, 'legacy': 1, 'hearing': 1, 'inflame': 1, 'daggers': 2, 'compel': 1, 'ring': 1, 'overcame': 2, 'ran': 3, 'rent': 1, 'envious': 1, 'cursed': 1, 'unkindly': 1, 'dearly': 1, 'unkindest': 1, 'burst': 1, 'mantle': 1, 'muffling': 1, 'while': 3, 'treason': 1, 'feel': 1, 'dint': 1, 'gracious': 1, 'vesture': 1, 'piteous': 1, 'woeful': 1, 'traitor': 1, 'sudden': 2, 'griefs': 2, 'plain': 2, 'neither': 1, 'ruffle': 1, 'stones': 1, 'forgot': 1, 'citizen': 1, 'revenge': 2, 'royal': 1, 'heirs': 1, 'abroad': 1, 'recreate': 1, 'brands': 1, 'citizens': 1, 'lepidus': 3, 'thither': 1, 'straight': 3, 'fortune': 2, 'mood': 1, 'madmen': 1, 'gates': 1, 'notice': 1, 'cinna': 4, 'unluckily': 1, 'charge': 2, 'wander': 1, 'something': 2, 'whither': 2, 'married': 2, 'wisely': 3, 'fools': 1, 'bang': 1, 'proceed': 1, 'answered': 1, 'tear': 5, 'seated': 1, 'damn': 1, 'determine': 1, 'slight': 2, 'unmeritable': 1, 'sent': 1, 'share': 1, 'black': 1, 'sentence': 1, 'divers': 1, 'slanderous': 1, 'ass': 1, 'groan': 1, 'sweat': 1, 'having': 2, 'treasure': 1, 'load': 1, 'empty': 1, 'ears': 2, 'graze': 1, 'tried': 2, 'appoint': 1, 'teach': 1, 'corporal': 1, 'motion': 1, 'feeds': 1, 'staled': 1, 'levying': 1, 'alliance': 1, 'covert': 1, 'matters': 1, 'perils': 2, 'surest': 1, 'millions': 1, 'titinius': 5, 'pindarus': 7, 'salutation': 1, 'greets': 1, 'ill': 5, 'received': 2, 'courtesy': 1, 'familiar': 1, 'friendly': 3, 'described': 1, 'sicken': 1, 'decay': 1, 'useth': 1, 'enforced': 1, 'tricks': 1, 'simple': 1, 'hollow': 1, 'gallant': 2, 'crests': 1, 'deceitful': 1, 'jades': 1, 'sink': 2, 'army': 2, 'meant': 1, 'sard': 1, 'horse': 2, 'gently': 1, 'judge': 1, 'sober': 1, 'hides': 1, 'armies': 1, 'enlarge': 1, 'commanders': 2, 'tent': 4, 'guard': 1, 'noted': 1, 'pella': 1, 'taking': 1, 'bribes': 2, 'praying': 1, 'slighted': 1, 'nice': 1, 'itching': 2, 'sell': 2, 'mart': 1, 'offices': 1, 'gold': 2, 'chastisement': 1, 'villain': 1, 'foremost': 1, 'supporting': 1, 'contaminate': 1, 'space': 1, 'large': 1, 'grasped': 1, 'bay': 1, 'bait': 1, 'hedge': 1, 'older': 1, 'abler': 1, 'rash': 2, 'frighted': 1, 'madman': 1, 'proud': 1, 'slaves': 1, 'choleric': 1, 'bondmen': 1, 'crouch': 1, 'testy': 1, 'venom': 1, 'split': 1, 'vaunting': 1, 'learn': 1, 'tempted': 1, 'presume': 1, 'sorry': 2, 'sums': 1, 'denied': 4, 'raise': 2, 'money': 1, 'coin': 1, 'drachmas': 1, 'wring': 1, 'peasants': 1, 'pay': 1, 'grows': 1, 'covetous': 1, 'lock': 1, 'rascal': 1, 'counters': 1, 'dash': 1, 'fool': 1, 'practise': 1, 'alone': 1, 'aweary': 1, 'hated': 1, 'braved': 1, 'faults': 1, 'naked': 1, 'richer': 1, 'hate': 1, 'lovedst': 2, 'sheathe': 1, 'dishonor': 1, 'yoked': 1, 'carries': 1, 'anger': 1, 'hasty': 1, 'spark': 1, 'mirth': 1, 'laughter': 1, 'grief': 2, 'vexeth': 1, 'mother': 3, 'overearnest': 1, 'grudge': 1, 'followed': 1, 'vilely': 1, 'cynic': 1, 'wars': 1, 'jigging': 1, 'lucilius': 3, 'lodge': 1, 'companies': 1, 'messala': 2, 'immediately': 1, 'bowl': 2, 'philosophy': 2, 'accidental': 1, 'killing': 1, 'insupportable': 1, 'touching': 1, 'impatient': 1, 'tidings': 3, 'attendants': 1, 'died': 3, 'thirsty': 1, 'drink': 1, 'letters': 5, 'bending': 1, 'expedition': 1, 'selfsame': 1, 'proscription': 1, 'bills': 2, 'outlawry': 1, 'seventy': 1, 'writ': 1, 'meditating': 1, 'losses': 1, 'marching': 2, 'philippi': 7, 'waste': 1, 'doing': 1, 'lying': 1, 'force': 1, 'ground': 1, 'forced': 1, 'grudged': 1, 'fuller': 1, 'utmost': 1, 'legions': 3, 'increaseth': 1, 'ready': 2, 'voyage': 1, 'bound': 2, 'shallows': 1, 'current': 1, 'deep': 1, 'crept': 1, 'obey': 1, 'niggard': 1, 'beginning': 1, 'division': 1, 'everything': 2, 'claudio': 2, 'cushions': 1, 'varro': 3, 'watch': 1, 'otherwise': 1, 'bethink': 1, 'book': 1, 'sought': 1, 'pocket': 1, 'lordship': 1, 'canst': 2, 'strain': 1, 'duty': 1, 'past': 1, 'bloods': 1, 'sleepy': 1, 'murtherous': 1, 'layest': 1, 'mace': 1, 'plays': 1, 'wake': 1, 'leaf': 1, 'weakness': 1, 'shapes': 1, 'makest': 1, 'comest': 2, 'criedst': 1, 'sirrah': 1, 'powers': 2, 'betimes': 1, 'hopes': 1, 'hills': 1, 'upper': 1, 'proves': 1, 'battles': 2, 'warn': 1, 'answering': 1, 'content': 1, 'thinking': 1, 'fasten': 1, 'softly': 1, 'generals': 1, 'until': 2, 'signal': 1, 'witness': 2, 'hole': 1, 'crying': 1, 'posture': 1, 'blows': 1, 'rob': 1, 'hybla': 1, 'stingless': 1, 'soundless': 1, 'threat': 1, 'sides': 1, 'kissing': 1, 'damned': 1, 'behind': 1, 'strooke': 1, 'offended': 1, 'arguing': 1, 'redder': 1, 'thirty': 1, 'added': 1, 'slaughter': 1, 'unless': 1, 'wert': 1, 'couldst': 1, 'peevish': 1, 'school': 2, 'worthless': 1, 'masker': 1, 'hurl': 1, 'blow': 1, 'storm': 1, 'converse': 1, 'epicurus': 1, 'partly': 1, 'coming': 1, 'former': 1, 'ensign': 2, 'eagles': 1, 'gorging': 1, 'feeding': 1, 'consorted': 1, 'steads': 1, 'kites': 1, 'heads': 1, 'downward': 1, 'shadows': 1, 'canopy': 1, 'lovers': 1, 'worst': 1, 'determined': 1, 'rule': 1, 'cato': 1, 'cowardly': 1, 'arming': 1, 'providence': 1, 'govern': 1, 'everlasting': 1, 'farewell': 3, 'parting': 2, 'forever': 2, 'field': 2, 'loud': 1, 'demeanor': 1, 'push': 2, 'villains': 1, 'turning': 1, 'soldiers': 2, 'hill': 1, 'tents': 1, 'lovest': 1, 'mount': 1, 'spurs': 2, 'troops': 2, 'assured': 1, 'sight': 1, 'notest': 1, 'ascends': 1, 'breathed': 1, 'enclosed': 1, 'round': 1, 'lights': 1, 'parthia': 1, 'saving': 1, 'whatsoever': 1, 'attempt': 1, 'search': 1, 'guide': 1, 'stabs': 1, 'overthrown': 1, 'setting': 1, 'rays': 1, 'mistrust': 2, 'success': 2, 'hateful': 1, 'thrusting': 1, 'report': 1, 'piercing': 1, 'darts': 1, 'envenomed': 1, 'brows': 1, 'wreath': 1, 'misconstrued': 1, 'garland': 1, 'regarded': 1, 'kills': 1, 'walks': 1, 'impossible': 1, 'owe': 1, 'moe': 1, 'thasos': 1, 'funerals': 1, 'discomfort': 1, 'labio': 1, 'try': 1, 'bastard': 1, 'proclaim': 1, 'foe': 1, 'diest': 1, 'bravely': 1, 'mayst': 1, 'assure': 2, 'alive': 3, 'prize': 1, 'wheer': 1, 'remains': 1, 'statilius': 1, 'slaying': 1, 'hark': 2, 'request': 1, 'vessel': 1, 'runs': 2, 'list': 1, 'sardis': 1, 'nay': 1, 'seest': 1, 'beat': 1, 'tarry': 1, 'office': 1, 'alarum': 1, 'tarrying': 1, 'losing': 1, 'attain': 2, 'ended': 1, 'hangs': 1, 'bones': 2, 'smatch': 1, 'conquerors': 1, 'proved': 1, 'saying': 1, 'served': 1, 'entertain': 1, 'latest': 1, 'elements': 1, 'ordered': 1, 'glories': 1}\n"
     ]
    }
   ],
   "source": [
    "# using the same julius caesar text file\n",
    "with open('julius_caesar.txt') as file:\n",
    "    lines = file.read().splitlines()\n",
    "\n",
    "words = []\n",
    "for line in lines:\n",
    "    line = line.strip()  \n",
    "    words.extend([word.lower() for word in line.split() if word.isalnum()])\n",
    "\n",
    "word_dict = {}\n",
    "for word in words:\n",
    "    if word in word_dict:\n",
    "        word_dict[word] += 1\n",
    "    else:\n",
    "        word_dict[word] = 1\n",
    "\n",
    "print(word_dict)"
   ]
  },
  {
   "cell_type": "markdown",
   "metadata": {},
   "source": [
    "Now here is where the iterative nature of dictionaries can be used to our benefit. We sort the worddict, using the function `worddict.get` to provide the values, which are the counts."
   ]
  },
  {
   "cell_type": "code",
   "execution_count": 14,
   "metadata": {},
   "outputs": [],
   "source": [
    "topwords = sorted(word_dict, key = word_dict.get, reverse=True)"
   ]
  },
  {
   "cell_type": "code",
   "execution_count": 15,
   "metadata": {},
   "outputs": [
    {
     "name": "stdout",
     "output_type": "stream",
     "text": [
      "and 632\n",
      "the 612\n",
      "i 497\n",
      "to 416\n",
      "of 385\n",
      "you 313\n",
      "that 273\n",
      "a 267\n",
      "is 248\n",
      "in 223\n",
      "not 213\n",
      "my 189\n",
      "he 184\n",
      "for 177\n",
      "with 162\n",
      "his 160\n",
      "it 154\n",
      "be 152\n",
      "have 144\n",
      "this 141\n"
     ]
    }
   ],
   "source": [
    "for word in topwords[:20]:\n",
    "    print(word, word_dict[word])"
   ]
  },
  {
   "cell_type": "markdown",
   "metadata": {},
   "source": [
    "You can even make a hacky histogram for this by creating a '#' for every 10 occurences"
   ]
  },
  {
   "cell_type": "code",
   "execution_count": 16,
   "metadata": {},
   "outputs": [
    {
     "name": "stdout",
     "output_type": "stream",
     "text": [
      "and                  ***************************************************************\n",
      "the                  *************************************************************\n",
      "i                    *************************************************\n",
      "to                   *****************************************\n",
      "of                   **************************************\n",
      "you                  *******************************\n",
      "that                 ***************************\n",
      "a                    **************************\n",
      "is                   ************************\n",
      "in                   **********************\n",
      "not                  *********************\n",
      "my                   ******************\n",
      "he                   ******************\n",
      "for                  *****************\n",
      "with                 ****************\n",
      "his                  ****************\n",
      "it                   ***************\n",
      "be                   ***************\n",
      "have                 **************\n",
      "this                 **************\n"
     ]
    }
   ],
   "source": [
    "for word in topwords[:20]:\n",
    "    print(word+(20 - len(word))*' ', (word_dict[word]//10)*'*')"
   ]
  },
  {
   "cell_type": "markdown",
   "metadata": {},
   "source": [
    "## EXERCISE 2: Simulate a Bank Account"
   ]
  },
  {
   "cell_type": "code",
   "execution_count": 1,
   "metadata": {},
   "outputs": [],
   "source": [
    "class BankAccount:\n",
    "    def __init__(self, balance):\n",
    "        self.balance = balance\n",
    "        \n",
    "    def withdraw(self, amount):\n",
    "        self.balance = self.balance - amount"
   ]
  },
  {
   "cell_type": "code",
   "execution_count": 2,
   "metadata": {},
   "outputs": [
    {
     "name": "stdout",
     "output_type": "stream",
     "text": [
      "100\n"
     ]
    },
    {
     "data": {
      "text/plain": [
       "80"
      ]
     },
     "execution_count": 2,
     "metadata": {},
     "output_type": "execute_result"
    }
   ],
   "source": [
    "myaccount = BankAccount(100)\n",
    "print(myaccount.balance)\n",
    "myaccount.withdraw(20)\n",
    "myaccount.balance"
   ]
  },
  {
   "cell_type": "markdown",
   "metadata": {},
   "source": [
    "Python supports inheritance. Indeed, in python, all classes inherit from object, which means that they all get some attributes and methods from object.\n",
    "\n",
    "What is inheritance, more precisely? In inheritance an object is based on another object. When inheritance is implemented, the methods and attributes that were defined in the base class will also be present in the inherited class. This is generally done to abstract away similar code in multiple classes. The abstracted code will reside in the base class and the previous classes will now inherit from the base class.\n",
    "\n",
    "Let's look at an example of inheritance. In the following example, Rocket is the base class and MarsRover is the inherited class. Notice the string interpolation in the formatting as well."
   ]
  },
  {
   "cell_type": "code",
   "execution_count": 3,
   "metadata": {},
   "outputs": [],
   "source": [
    "class Rocket:\n",
    "    def __init__(self, name, distance):\n",
    "        self.name = name\n",
    "        self.distance = distance\n",
    "\n",
    "    def launch(self):\n",
    "        return \"%s has reached %s\" % (self.name, self.distance)\n",
    "    \n",
    "    def get_maker(self):\n",
    "        return \"%s Launched\" % self.name\n",
    "\n",
    "\n",
    "class MarsRover(Rocket): # inheriting from the base class\n",
    "    def __init__(self, name, distance, maker):\n",
    "        Rocket.__init__(self, name, distance)\n",
    "        self.maker = maker\n",
    "\n",
    "    def get_maker(self):\n",
    "        return \"%s Launched by %s\" % (self.name, self.maker)"
   ]
  },
  {
   "cell_type": "code",
   "execution_count": 4,
   "metadata": {},
   "outputs": [
    {
     "name": "stdout",
     "output_type": "stream",
     "text": [
      "Simple rocket has reached till stratosphere\n",
      "Mangalyaan has reached till Mars\n",
      "Simple rocket Launched\n",
      "Mangalyaan Launched by ISRO\n"
     ]
    }
   ],
   "source": [
    "x = Rocket(\"Simple rocket\", \"till stratosphere\")\n",
    "y = MarsRover(\"Mangalyaan\", \"till Mars\", \"ISRO\")\n",
    "print(x.launch())\n",
    "print(y.launch()) # dispatches to Ricket's launch\n",
    "print(x.get_maker())\n",
    "print(y.get_maker())"
   ]
  },
  {
   "cell_type": "markdown",
   "metadata": {},
   "source": [
    "`launch` is not defined by the derived class `MarsRover` so the `launch` for instance `y` is used from `Rocket`. On the other hand, `MarsRover` defines a new `get_maker` so that overrides the one from `Rocket`. Thus inheritance can be used to share functionality when needed and diversify when not."
   ]
  },
  {
   "cell_type": "markdown",
   "metadata": {},
   "source": [
    "Define an error checking bank account `ECBankAccount` which inherits from `BankAccount` but will not allow overdraws. If there is an overdraw raise a `ValueError` with a message \"Withdrawal Not Allowed\": read up on this. Create two accounts one regular and one he derived class instance and wihdraw more than the balance from both."
   ]
  },
  {
   "cell_type": "code",
   "execution_count": 17,
   "metadata": {},
   "outputs": [],
   "source": [
    "# youe code here\n",
    "class ECBankAccount(BankAccount):\n",
    "    def __init__(self, balance):\n",
    "        self.balance = balance\n",
    "        \n",
    "    def withdraw(self, amount):\n",
    "        check = self.balance - amount\n",
    "        if check >=0:\n",
    "            self.balance -= amount\n",
    "        else:\n",
    "            raise ValueError(\"Withdrawal Not Allowed\")"
   ]
  },
  {
   "cell_type": "code",
   "execution_count": 18,
   "metadata": {},
   "outputs": [
    {
     "data": {
      "text/plain": [
       "-20"
      ]
     },
     "execution_count": 18,
     "metadata": {},
     "output_type": "execute_result"
    }
   ],
   "source": [
    "x = BankAccount(100)\n",
    "x.withdraw(120)\n",
    "x.balance"
   ]
  },
  {
   "cell_type": "code",
   "execution_count": 19,
   "metadata": {},
   "outputs": [
    {
     "ename": "ValueError",
     "evalue": "Withdrawal Not Allowed",
     "output_type": "error",
     "traceback": [
      "\u001b[0;31m---------------------------------------------------------------------------\u001b[0m",
      "\u001b[0;31mValueError\u001b[0m                                Traceback (most recent call last)",
      "Cell \u001b[0;32mIn[19], line 2\u001b[0m\n\u001b[1;32m      1\u001b[0m y \u001b[38;5;241m=\u001b[39m ECBankAccount(\u001b[38;5;241m100\u001b[39m)\n\u001b[0;32m----> 2\u001b[0m \u001b[43my\u001b[49m\u001b[38;5;241;43m.\u001b[39;49m\u001b[43mwithdraw\u001b[49m\u001b[43m(\u001b[49m\u001b[38;5;241;43m120\u001b[39;49m\u001b[43m)\u001b[49m\n",
      "Cell \u001b[0;32mIn[17], line 11\u001b[0m, in \u001b[0;36mECBankAccount.withdraw\u001b[0;34m(self, amount)\u001b[0m\n\u001b[1;32m      9\u001b[0m     \u001b[38;5;28mself\u001b[39m\u001b[38;5;241m.\u001b[39mbalance \u001b[38;5;241m-\u001b[39m\u001b[38;5;241m=\u001b[39m amount\n\u001b[1;32m     10\u001b[0m \u001b[38;5;28;01melse\u001b[39;00m:\n\u001b[0;32m---> 11\u001b[0m     \u001b[38;5;28;01mraise\u001b[39;00m \u001b[38;5;167;01mValueError\u001b[39;00m(\u001b[38;5;124m\"\u001b[39m\u001b[38;5;124mWithdrawal Not Allowed\u001b[39m\u001b[38;5;124m\"\u001b[39m)\n",
      "\u001b[0;31mValueError\u001b[0m: Withdrawal Not Allowed"
     ]
    }
   ],
   "source": [
    "y = ECBankAccount(100)\n",
    "y.withdraw(120)"
   ]
  },
  {
   "cell_type": "code",
   "execution_count": 20,
   "metadata": {},
   "outputs": [
    {
     "data": {
      "text/plain": [
       "100"
      ]
     },
     "execution_count": 20,
     "metadata": {},
     "output_type": "execute_result"
    }
   ],
   "source": [
    "y.balance"
   ]
  }
 ],
 "metadata": {
  "kernelspec": {
   "display_name": "Python 3 (ipykernel)",
   "language": "python",
   "name": "python3"
  },
  "language_info": {
   "codemirror_mode": {
    "name": "ipython",
    "version": 3
   },
   "file_extension": ".py",
   "mimetype": "text/x-python",
   "name": "python",
   "nbconvert_exporter": "python",
   "pygments_lexer": "ipython3",
   "version": "3.12.2"
  }
 },
 "nbformat": 4,
 "nbformat_minor": 4
}
